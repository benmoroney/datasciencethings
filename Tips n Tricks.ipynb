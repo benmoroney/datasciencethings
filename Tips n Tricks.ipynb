{
 "cells": [
  {
   "cell_type": "markdown",
   "metadata": {},
   "source": [
    "# Useful Data Science Libraries, Tools, Tricks, etc"
   ]
  },
  {
   "cell_type": "markdown",
   "metadata": {},
   "source": [
    "[1. Libraries](#Libraries) <br>\n",
    "[2. Visualizations](#Visualizations) <br>\n",
    "- [Correlation Coefficients Heat Map](#Linearity) \n",
    "- [Correlation To Target Heat Map](#Linearity) \n",
    "- [Normality](#Normality)\n",
    "- [Homoscedasticity](#Homoscedasticity)\n",
    "\n",
    "[3. Code Snippits](#Code-Snippits) <br>\n",
    "[4. Definitions](#Definitions) <br>"
   ]
  },
  {
   "cell_type": "markdown",
   "metadata": {},
   "source": [
    "### Libraries"
   ]
  },
  {
   "cell_type": "code",
   "execution_count": 1,
   "metadata": {},
   "outputs": [],
   "source": [
    "# Numpy for math/array functions, \n",
    "# Pandas for DataFrame Manipulation\n",
    "import numpy as np\n",
    "import pandas as pd\n",
    "\n",
    "# Matplotlib and Seasborn for Visualization\n",
    "\n",
    "import matplotlib.pyplot as plt\n",
    "import seaborn as sns\n",
    "\n",
    "# SKlearn packages for Machine learning functions\n",
    "# such as: Train-test-Split, Scaling, Regressions, etc\n",
    "\n",
    "from sklearn.preprocessing import StandardScaler # To scale our data\n",
    "from sklearn.model_selection import train_test_split # To split our date\n",
    "from sklearn.linear_model import LinearRegression # To build our regression\n",
    "from sklearn.metrics import r2_score # To calculate our r2 score\n",
    "from sklearn.metrics import mean_squared_error # to calculate our mean squared error"
   ]
  },
  {
   "cell_type": "markdown",
   "metadata": {},
   "source": [
    "### Visualizations"
   ]
  },
  {
   "cell_type": "markdown",
   "metadata": {},
   "source": [
    "### Code Snippits"
   ]
  },
  {
   "cell_type": "markdown",
   "metadata": {},
   "source": [
    "#### Definitions"
   ]
  }
 ],
 "metadata": {
  "kernelspec": {
   "display_name": "Python 3",
   "language": "python",
   "name": "python3"
  },
  "language_info": {
   "codemirror_mode": {
    "name": "ipython",
    "version": 3
   },
   "file_extension": ".py",
   "mimetype": "text/x-python",
   "name": "python",
   "nbconvert_exporter": "python",
   "pygments_lexer": "ipython3",
   "version": "3.8.5"
  }
 },
 "nbformat": 4,
 "nbformat_minor": 4
}
